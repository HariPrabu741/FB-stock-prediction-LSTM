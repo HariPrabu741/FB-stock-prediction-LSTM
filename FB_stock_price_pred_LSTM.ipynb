{
  "nbformat": 4,
  "nbformat_minor": 0,
  "metadata": {
    "colab": {
      "name": "FB stock price pred LSTM",
      "provenance": [],
      "authorship_tag": "ABX9TyNgBX4F9CFrTrhE9qmIK06J"
    },
    "kernelspec": {
      "name": "python3",
      "display_name": "Python 3"
    },
    "language_info": {
      "name": "python"
    }
  },
  "cells": [
    {
      "cell_type": "code",
      "metadata": {
        "id": "_gbobMrT0cLh"
      },
      "source": [
        "import numpy as np\n",
        "import pandas as pd\n",
        "import matplotlib.pyplot as plt\n",
        "%matplotlib inline"
      ],
      "execution_count": null,
      "outputs": []
    },
    {
      "cell_type": "code",
      "metadata": {
        "id": "sbIIZloV0nuj",
        "colab": {
          "base_uri": "https://localhost:8080/",
          "height": 204
        },
        "outputId": "98dd4d67-5409-49ba-938d-166525d0e44f"
      },
      "source": [
        "df=pd.read_csv('/content/FB stock.csv')\n",
        "df.head()"
      ],
      "execution_count": null,
      "outputs": [
        {
          "output_type": "execute_result",
          "data": {
            "text/html": [
              "<div>\n",
              "<style scoped>\n",
              "    .dataframe tbody tr th:only-of-type {\n",
              "        vertical-align: middle;\n",
              "    }\n",
              "\n",
              "    .dataframe tbody tr th {\n",
              "        vertical-align: top;\n",
              "    }\n",
              "\n",
              "    .dataframe thead th {\n",
              "        text-align: right;\n",
              "    }\n",
              "</style>\n",
              "<table border=\"1\" class=\"dataframe\">\n",
              "  <thead>\n",
              "    <tr style=\"text-align: right;\">\n",
              "      <th></th>\n",
              "      <th>Date</th>\n",
              "      <th>Open</th>\n",
              "      <th>High</th>\n",
              "      <th>Low</th>\n",
              "      <th>Close</th>\n",
              "      <th>Adj Close</th>\n",
              "      <th>Volume</th>\n",
              "    </tr>\n",
              "  </thead>\n",
              "  <tbody>\n",
              "    <tr>\n",
              "      <th>0</th>\n",
              "      <td>27-07-2020</td>\n",
              "      <td>231.460007</td>\n",
              "      <td>234.949997</td>\n",
              "      <td>230.830002</td>\n",
              "      <td>233.500000</td>\n",
              "      <td>233.500000</td>\n",
              "      <td>13163100.0</td>\n",
              "    </tr>\n",
              "    <tr>\n",
              "      <th>1</th>\n",
              "      <td>28-07-2020</td>\n",
              "      <td>234.630005</td>\n",
              "      <td>234.960007</td>\n",
              "      <td>229.830002</td>\n",
              "      <td>230.119995</td>\n",
              "      <td>230.119995</td>\n",
              "      <td>14170100.0</td>\n",
              "    </tr>\n",
              "    <tr>\n",
              "      <th>2</th>\n",
              "      <td>29-07-2020</td>\n",
              "      <td>231.139999</td>\n",
              "      <td>233.699997</td>\n",
              "      <td>230.309998</td>\n",
              "      <td>233.289993</td>\n",
              "      <td>233.289993</td>\n",
              "      <td>13588300.0</td>\n",
              "    </tr>\n",
              "    <tr>\n",
              "      <th>3</th>\n",
              "      <td>30-07-2020</td>\n",
              "      <td>230.220001</td>\n",
              "      <td>234.889999</td>\n",
              "      <td>229.000000</td>\n",
              "      <td>234.500000</td>\n",
              "      <td>234.500000</td>\n",
              "      <td>20615300.0</td>\n",
              "    </tr>\n",
              "    <tr>\n",
              "      <th>4</th>\n",
              "      <td>31-07-2020</td>\n",
              "      <td>255.820007</td>\n",
              "      <td>255.850006</td>\n",
              "      <td>249.000000</td>\n",
              "      <td>253.669998</td>\n",
              "      <td>253.669998</td>\n",
              "      <td>53005100.0</td>\n",
              "    </tr>\n",
              "  </tbody>\n",
              "</table>\n",
              "</div>"
            ],
            "text/plain": [
              "         Date        Open        High  ...       Close   Adj Close      Volume\n",
              "0  27-07-2020  231.460007  234.949997  ...  233.500000  233.500000  13163100.0\n",
              "1  28-07-2020  234.630005  234.960007  ...  230.119995  230.119995  14170100.0\n",
              "2  29-07-2020  231.139999  233.699997  ...  233.289993  233.289993  13588300.0\n",
              "3  30-07-2020  230.220001  234.889999  ...  234.500000  234.500000  20615300.0\n",
              "4  31-07-2020  255.820007  255.850006  ...  253.669998  253.669998  53005100.0\n",
              "\n",
              "[5 rows x 7 columns]"
            ]
          },
          "metadata": {
            "tags": []
          },
          "execution_count": 33
        }
      ]
    },
    {
      "cell_type": "code",
      "metadata": {
        "colab": {
          "base_uri": "https://localhost:8080/"
        },
        "id": "aLSN-2mQfHlE",
        "outputId": "1b806b23-f1f4-404d-a1d1-73030bb26ae6"
      },
      "source": [
        "df.shape"
      ],
      "execution_count": null,
      "outputs": [
        {
          "output_type": "execute_result",
          "data": {
            "text/plain": [
              "(251, 7)"
            ]
          },
          "metadata": {
            "tags": []
          },
          "execution_count": 34
        }
      ]
    },
    {
      "cell_type": "code",
      "metadata": {
        "colab": {
          "base_uri": "https://localhost:8080/"
        },
        "id": "PrJIaD-7fBt3",
        "outputId": "be845d38-0255-4abe-e9cc-3f7532f2c5b6"
      },
      "source": [
        "df.isnull().sum()"
      ],
      "execution_count": null,
      "outputs": [
        {
          "output_type": "execute_result",
          "data": {
            "text/plain": [
              "Date         16\n",
              "Open         16\n",
              "High         16\n",
              "Low          16\n",
              "Close        16\n",
              "Adj Close    16\n",
              "Volume       16\n",
              "dtype: int64"
            ]
          },
          "metadata": {
            "tags": []
          },
          "execution_count": 35
        }
      ]
    },
    {
      "cell_type": "code",
      "metadata": {
        "id": "oFuTGCjrfF-0"
      },
      "source": [
        "df.dropna(inplace=True)"
      ],
      "execution_count": null,
      "outputs": []
    },
    {
      "cell_type": "code",
      "metadata": {
        "colab": {
          "base_uri": "https://localhost:8080/"
        },
        "id": "aU8uaAEkfOTT",
        "outputId": "387ee48f-36ce-43e3-a2b6-f448d8fee1a6"
      },
      "source": [
        "df_1=df.reset_index()['Close']\n",
        "df_1"
      ],
      "execution_count": null,
      "outputs": [
        {
          "output_type": "execute_result",
          "data": {
            "text/plain": [
              "0      233.500000\n",
              "1      230.119995\n",
              "2      233.289993\n",
              "3      234.500000\n",
              "4      253.669998\n",
              "          ...    \n",
              "230    343.179993\n",
              "231    341.369995\n",
              "232    355.640015\n",
              "233    351.890015\n",
              "234    347.709991\n",
              "Name: Close, Length: 235, dtype: float64"
            ]
          },
          "metadata": {
            "tags": []
          },
          "execution_count": 37
        }
      ]
    },
    {
      "cell_type": "code",
      "metadata": {
        "colab": {
          "base_uri": "https://localhost:8080/"
        },
        "id": "_3htQpMOhBBP",
        "outputId": "777ff98c-7839-4965-f524-4682da603900"
      },
      "source": [
        "df_1.shape"
      ],
      "execution_count": null,
      "outputs": [
        {
          "output_type": "execute_result",
          "data": {
            "text/plain": [
              "(235,)"
            ]
          },
          "metadata": {
            "tags": []
          },
          "execution_count": 38
        }
      ]
    },
    {
      "cell_type": "code",
      "metadata": {
        "colab": {
          "base_uri": "https://localhost:8080/",
          "height": 284
        },
        "id": "ylMqRGPifzHJ",
        "outputId": "bea39902-5fab-48c2-fe19-d21a09d12ea1"
      },
      "source": [
        "plt.plot(df_1)"
      ],
      "execution_count": null,
      "outputs": [
        {
          "output_type": "execute_result",
          "data": {
            "text/plain": [
              "[<matplotlib.lines.Line2D at 0x7f2b0ab2a910>]"
            ]
          },
          "metadata": {
            "tags": []
          },
          "execution_count": 39
        },
        {
          "output_type": "display_data",
          "data": {
            "image/png": "[encoded data removed]",
            "text/plain": [
              "<Figure size 432x288 with 1 Axes>"
            ]
          },
          "metadata": {
            "tags": [],
            "needs_background": "light"
          }
        }
      ]
    },
    {
      "cell_type": "code",
      "metadata": {
        "id": "mdhIVeHbgANq"
      },
      "source": [
        "from sklearn.preprocessing import MinMaxScaler"
      ],
      "execution_count": null,
      "outputs": []
    },
    {
      "cell_type": "code",
      "metadata": {
        "id": "TFCtru6DgInr"
      },
      "source": [
        "scaler=MinMaxScaler()\n",
        "df_1=scaler.fit_transform(np.array(df_1).reshape(-1,1))"
      ],
      "execution_count": null,
      "outputs": []
    },
    {
      "cell_type": "code",
      "metadata": {
        "colab": {
          "base_uri": "https://localhost:8080/"
        },
        "id": "A2LWN3XQgZO_",
        "outputId": "d5a83580-96c5-41ea-a2c7-067361bb7b05"
      },
      "source": [
        "df_1.shape"
      ],
      "execution_count": null,
      "outputs": [
        {
          "output_type": "execute_result",
          "data": {
            "text/plain": [
              "(235, 1)"
            ]
          },
          "metadata": {
            "tags": []
          },
          "execution_count": 42
        }
      ]
    },
    {
      "cell_type": "code",
      "metadata": {
        "colab": {
          "base_uri": "https://localhost:8080/"
        },
        "id": "QuqfdIh8hGkP",
        "outputId": "53b2fe75-529a-4527-d600-fa4d84a94c32"
      },
      "source": [
        "int(len(df_1)*0.65)"
      ],
      "execution_count": null,
      "outputs": [
        {
          "output_type": "execute_result",
          "data": {
            "text/plain": [
              "152"
            ]
          },
          "metadata": {
            "tags": []
          },
          "execution_count": 43
        }
      ]
    },
    {
      "cell_type": "code",
      "metadata": {
        "id": "3b_a_Fc5hXvA"
      },
      "source": [
        "train_data=df_1[:int(len(df_1)*0.65),]\n",
        "test_data=df_1[len(train_data):,]"
      ],
      "execution_count": null,
      "outputs": []
    },
    {
      "cell_type": "code",
      "metadata": {
        "colab": {
          "base_uri": "https://localhost:8080/"
        },
        "id": "8FdXQM8WjP0e",
        "outputId": "a9b29483-c86b-4609-c31c-36fa52e3d133"
      },
      "source": [
        "print(len(train_data))\n",
        "train_data"
      ],
      "execution_count": null,
      "outputs": [
        {
          "output_type": "stream",
          "text": [
            "152\n"
          ],
          "name": "stdout"
        },
        {
          "output_type": "execute_result",
          "data": {
            "text/plain": [
              "array([[0.02692802],\n",
              "       [0.        ],\n",
              "       [0.02525492],\n",
              "       [0.03489487],\n",
              "       [0.1876195 ],\n",
              "       [0.17399624],\n",
              "       [0.1570268 ],\n",
              "       [0.15137028],\n",
              "       [0.28011471],\n",
              "       [0.30529   ],\n",
              "       [0.26195028],\n",
              "       [0.20721802],\n",
              "       [0.23717348],\n",
              "       [0.24840653],\n",
              "       [0.24792854],\n",
              "       [0.2472913 ],\n",
              "       [0.25669213],\n",
              "       [0.25868384],\n",
              "       [0.30983117],\n",
              "       [0.29389746],\n",
              "       [0.32879233],\n",
              "       [0.40391973],\n",
              "       [0.58787442],\n",
              "       [0.5027087 ],\n",
              "       [0.50621414],\n",
              "       [0.50254945],\n",
              "       [0.52039513],\n",
              "       [0.57664112],\n",
              "       [0.48597825],\n",
              "       [0.41913645],\n",
              "       [0.32695987],\n",
              "       [0.347355  ],\n",
              "       [0.30250155],\n",
              "       [0.29071052],\n",
              "       [0.28704584],\n",
              "       [0.33699818],\n",
              "       [0.26609296],\n",
              "       [0.19678145],\n",
              "       [0.17853729],\n",
              "       [0.14364242],\n",
              "       [0.19622372],\n",
              "       [0.15057366],\n",
              "       [0.15463672],\n",
              "       [0.19678145],\n",
              "       [0.21271517],\n",
              "       [0.25231046],\n",
              "       [0.25318669],\n",
              "       [0.29087001],\n",
              "       [0.23757172],\n",
              "       [0.27509555],\n",
              "       [0.22737416],\n",
              "       [0.22307198],\n",
              "       [0.26800518],\n",
              "       [0.27350232],\n",
              "       [0.36352771],\n",
              "       [0.3666349 ],\n",
              "       [0.33221802],\n",
              "       [0.291587  ],\n",
              "       [0.28529312],\n",
              "       [0.24920327],\n",
              "       [0.29827914],\n",
              "       [0.38726903],\n",
              "       [0.38240912],\n",
              "       [0.43554816],\n",
              "       [0.37436251],\n",
              "       [0.42359788],\n",
              "       [0.29915561],\n",
              "       [0.40399923],\n",
              "       [0.26282652],\n",
              "       [0.24888452],\n",
              "       [0.28027396],\n",
              "       [0.45618229],\n",
              "       [0.51434025],\n",
              "       [0.50422243],\n",
              "       [0.38758753],\n",
              "       [0.33707769],\n",
              "       [0.3693436 ],\n",
              "       [0.35818981],\n",
              "       [0.37308803],\n",
              "       [0.38910124],\n",
              "       [0.35755256],\n",
              "       [0.333413  ],\n",
              "       [0.34114086],\n",
              "       [0.31532832],\n",
              "       [0.30521026],\n",
              "       [0.37284903],\n",
              "       [0.36225298],\n",
              "       [0.37993942],\n",
              "       [0.37324728],\n",
              "       [0.44956966],\n",
              "       [0.45729752],\n",
              "       [0.41212558],\n",
              "       [0.39499689],\n",
              "       [0.4418418 ],\n",
              "       [0.42447411],\n",
              "       [0.38081589],\n",
              "       [0.37444226],\n",
              "       [0.34600053],\n",
              "       [0.35109943],\n",
              "       [0.36193424],\n",
              "       [0.36289046],\n",
              "       [0.35340989],\n",
              "       [0.36870612],\n",
              "       [0.33994588],\n",
              "       [0.2945347 ],\n",
              "       [0.3026608 ],\n",
              "       [0.29700441],\n",
              "       [0.37348628],\n",
              "       [0.37173356],\n",
              "       [0.33261626],\n",
              "       [0.34289358],\n",
              "       [0.30927343],\n",
              "       [0.32544614],\n",
              "       [0.26441999],\n",
              "       [0.30767996],\n",
              "       [0.29835888],\n",
              "       [0.21287442],\n",
              "       [0.16706499],\n",
              "       [0.17144679],\n",
              "       [0.12364565],\n",
              "       [0.16921608],\n",
              "       [0.24681331],\n",
              "       [0.29764189],\n",
              "       [0.34058312],\n",
              "       [0.35356914],\n",
              "       [0.38153288],\n",
              "       [0.41371881],\n",
              "       [0.33476747],\n",
              "       [0.277884  ],\n",
              "       [0.22474496],\n",
              "       [0.25406318],\n",
              "       [0.29445496],\n",
              "       [0.29102926],\n",
              "       [0.28975453],\n",
              "       [0.3025813 ],\n",
              "       [0.29047153],\n",
              "       [0.31333661],\n",
              "       [0.33261626],\n",
              "       [0.32082547],\n",
              "       [0.32170171],\n",
              "       [0.34934671],\n",
              "       [0.34616001],\n",
              "       [0.31285862],\n",
              "       [0.250478  ],\n",
              "       [0.24067867],\n",
              "       [0.28473538],\n",
              "       [0.27238685],\n",
              "       [0.19574572],\n",
              "       [0.21908856],\n",
              "       [0.27716701],\n",
              "       [0.23008286],\n",
              "       [0.20148188]])"
            ]
          },
          "metadata": {
            "tags": []
          },
          "execution_count": 52
        }
      ]
    },
    {
      "cell_type": "code",
      "metadata": {
        "colab": {
          "base_uri": "https://localhost:8080/"
        },
        "id": "DdcneGILjaAu",
        "outputId": "db068295-c662-4081-fd7f-4ed1bb5b2521"
      },
      "source": [
        "print(len(test_data))\n",
        "test_data"
      ],
      "execution_count": null,
      "outputs": [
        {
          "output_type": "stream",
          "text": [
            "83\n"
          ],
          "name": "stdout"
        },
        {
          "output_type": "execute_result",
          "data": {
            "text/plain": [
              "array([[0.21924805],\n",
              "       [0.27214785],\n",
              "       [0.20068514],\n",
              "       [0.28377939],\n",
              "       [0.27708726],\n",
              "       [0.34862972],\n",
              "       [0.30497126],\n",
              "       [0.34759399],\n",
              "       [0.3916507 ],\n",
              "       [0.42933402],\n",
              "       [0.38639255],\n",
              "       [0.47793165],\n",
              "       [0.50525816],\n",
              "       [0.48207457],\n",
              "       [0.41443604],\n",
              "       [0.38734853],\n",
              "       [0.42144667],\n",
              "       [0.48358829],\n",
              "       [0.4611217 ],\n",
              "       [0.51314527],\n",
              "       [0.54604842],\n",
              "       [0.6277087 ],\n",
              "       [0.60659658],\n",
              "       [0.6610101 ],\n",
              "       [0.66045236],\n",
              "       [0.65599094],\n",
              "       [0.64866158],\n",
              "       [0.63448058],\n",
              "       [0.57919057],\n",
              "       [0.61902485],\n",
              "       [0.6059591 ],\n",
              "       [0.57456966],\n",
              "       [0.5778361 ],\n",
              "       [0.56843527],\n",
              "       [0.52899923],\n",
              "       [0.56572657],\n",
              "       [0.58094329],\n",
              "       [0.58516571],\n",
              "       [0.61328871],\n",
              "       [0.791826  ],\n",
              "       [0.75653264],\n",
              "       [0.7366155 ],\n",
              "       [0.70299535],\n",
              "       [0.67638608],\n",
              "       [0.71622036],\n",
              "       [0.7087315 ],\n",
              "       [0.60428612],\n",
              "       [0.60874754],\n",
              "       [0.57703937],\n",
              "       [0.59862972],\n",
              "       [0.68371569],\n",
              "       [0.67989151],\n",
              "       [0.6360738 ],\n",
              "       [0.66499353],\n",
              "       [0.70498706],\n",
              "       [0.68602615],\n",
              "       [0.7529477 ],\n",
              "       [0.778123  ],\n",
              "       [0.77708726],\n",
              "       [0.81763853],\n",
              "       [0.78561186],\n",
              "       [0.78879855],\n",
              "       [0.7889578 ],\n",
              "       [0.764181  ],\n",
              "       [0.79851812],\n",
              "       [0.84815149],\n",
              "       [0.82504765],\n",
              "       [0.79772139],\n",
              "       [0.81532807],\n",
              "       [0.805768  ],\n",
              "       [0.84966521],\n",
              "       [0.84950596],\n",
              "       [0.80433378],\n",
              "       [0.84759399],\n",
              "       [0.79302098],\n",
              "       [0.81397385],\n",
              "       [0.86767038],\n",
              "       [0.88009866],\n",
              "       [0.90073279],\n",
              "       [0.8863128 ],\n",
              "       [1.        ],\n",
              "       [0.97012429],\n",
              "       [0.93682264]])"
            ]
          },
          "metadata": {
            "tags": []
          },
          "execution_count": 53
        }
      ]
    },
    {
      "cell_type": "code",
      "metadata": {
        "id": "f86OmNDgkCAO"
      },
      "source": [
        "def create_dataset(dataset,timestep):\n",
        "    dataX, dataY=[],[]\n",
        "    for i in range(len(dataset)-timestep-1):   #(range(0, 944))\n",
        "        a=dataset[i:(i+timestep),0]            #If timestep=100, in 1st row 0 to 99 values is appended...2nd row 1 to 100 is appended...           \n",
        "        dataX.append(a)\n",
        "        dataY.append(dataset[(i+timestep),0])  #(output) In 1st row 100th value is appended...2nd row 101 value is appended...\n",
        "    return np.array(dataX),np.array(dataY)"
      ],
      "execution_count": null,
      "outputs": []
    },
    {
      "cell_type": "code",
      "metadata": {
        "id": "FBCSILXElRrd"
      },
      "source": [
        "X_train, y_train=create_dataset(train_data,50)\n",
        "X_test, y_test=create_dataset(test_data,50)"
      ],
      "execution_count": null,
      "outputs": []
    },
    {
      "cell_type": "code",
      "metadata": {
        "colab": {
          "base_uri": "https://localhost:8080/"
        },
        "id": "BS7QCdQAlbEO",
        "outputId": "2142270c-205a-4ca1-93a5-490b454ace1d"
      },
      "source": [
        "print(X_train.shape),  print(y_train.shape)"
      ],
      "execution_count": null,
      "outputs": [
        {
          "output_type": "stream",
          "text": [
            "(101, 50)\n",
            "(101,)\n"
          ],
          "name": "stdout"
        },
        {
          "output_type": "execute_result",
          "data": {
            "text/plain": [
              "(None, None)"
            ]
          },
          "metadata": {
            "tags": []
          },
          "execution_count": 56
        }
      ]
    },
    {
      "cell_type": "code",
      "metadata": {
        "id": "AsbnbnuNnHAx"
      },
      "source": [
        "X_train=X_train.reshape(X_train.shape[0],X_train.shape[1],1)\n",
        "X_test=X_test.reshape(X_test.shape[0],X_test.shape[1],1)"
      ],
      "execution_count": null,
      "outputs": []
    },
    {
      "cell_type": "code",
      "metadata": {
        "id": "9KnfpfGSnbHe"
      },
      "source": [
        "from tensorflow.keras.models import Sequential\n",
        "from tensorflow.keras.layers import Dense, LSTM"
      ],
      "execution_count": null,
      "outputs": []
    },
    {
      "cell_type": "code",
      "metadata": {
        "id": "mEJtNsrXn4LC"
      },
      "source": [
        "model=Sequential()\n",
        "model.add(LSTM(25,return_sequences=True,input_shape=(50,1)))\n",
        "model.add(LSTM(25,return_sequences=True))\n",
        "model.add(LSTM(25))\n",
        "model.add(Dense(1))\n",
        "model.compile(loss='mean_squared_error',optimizer='adam')"
      ],
      "execution_count": null,
      "outputs": []
    },
    {
      "cell_type": "code",
      "metadata": {
        "colab": {
          "base_uri": "https://localhost:8080/"
        },
        "id": "_NGBMIC6pU4k",
        "outputId": "90717c58-615e-4eb3-c87a-fe2666160f57"
      },
      "source": [
        "model.summary()"
      ],
      "execution_count": null,
      "outputs": [
        {
          "output_type": "stream",
          "text": [
            "Model: \"sequential_2\"\n",
            "_________________________________________________________________\n",
            "Layer (type)                 Output Shape              Param #   \n",
            "=================================================================\n",
            "lstm_3 (LSTM)                (None, 50, 25)            2700      \n",
            "_________________________________________________________________\n",
            "lstm_4 (LSTM)                (None, 50, 25)            5100      \n",
            "_________________________________________________________________\n",
            "lstm_5 (LSTM)                (None, 25)                5100      \n",
            "_________________________________________________________________\n",
            "dense_1 (Dense)              (None, 1)                 26        \n",
            "=================================================================\n",
            "Total params: 12,926\n",
            "Trainable params: 12,926\n",
            "Non-trainable params: 0\n",
            "_________________________________________________________________\n"
          ],
          "name": "stdout"
        }
      ]
    },
    {
      "cell_type": "code",
      "metadata": {
        "colab": {
          "base_uri": "https://localhost:8080/"
        },
        "id": "vvM15UrZqf3C",
        "outputId": "aa795fe0-bd0a-4f56-ae02-afc46fa7a172"
      },
      "source": [
        "model.fit(X_train,y_train,validation_data=(X_test,y_test),epochs=30,verbose=1)"
      ],
      "execution_count": null,
      "outputs": [
        {
          "output_type": "stream",
          "text": [
            "Epoch 1/30\n",
            "4/4 [==============================] - 6s 427ms/step - loss: 0.0931 - val_loss: 0.3772\n",
            "Epoch 2/30\n",
            "4/4 [==============================] - 0s 61ms/step - loss: 0.0348 - val_loss: 0.1270\n",
            "Epoch 3/30\n",
            "4/4 [==============================] - 0s 68ms/step - loss: 0.0072 - val_loss: 0.0241\n",
            "Epoch 4/30\n",
            "4/4 [==============================] - 0s 71ms/step - loss: 0.0135 - val_loss: 0.0800\n",
            "Epoch 5/30\n",
            "4/4 [==============================] - 0s 64ms/step - loss: 0.0054 - val_loss: 0.1523\n",
            "Epoch 6/30\n",
            "4/4 [==============================] - 0s 63ms/step - loss: 0.0081 - val_loss: 0.1608\n",
            "Epoch 7/30\n",
            "4/4 [==============================] - 0s 63ms/step - loss: 0.0069 - val_loss: 0.1221\n",
            "Epoch 8/30\n",
            "4/4 [==============================] - 0s 60ms/step - loss: 0.0049 - val_loss: 0.0865\n",
            "Epoch 9/30\n",
            "4/4 [==============================] - 0s 63ms/step - loss: 0.0058 - val_loss: 0.0875\n",
            "Epoch 10/30\n",
            "4/4 [==============================] - 0s 60ms/step - loss: 0.0053 - val_loss: 0.1107\n",
            "Epoch 11/30\n",
            "4/4 [==============================] - 0s 68ms/step - loss: 0.0048 - val_loss: 0.1322\n",
            "Epoch 12/30\n",
            "4/4 [==============================] - 0s 62ms/step - loss: 0.0052 - val_loss: 0.1312\n",
            "Epoch 13/30\n",
            "4/4 [==============================] - 0s 59ms/step - loss: 0.0049 - val_loss: 0.1148\n",
            "Epoch 14/30\n",
            "4/4 [==============================] - 0s 62ms/step - loss: 0.0047 - val_loss: 0.1007\n",
            "Epoch 15/30\n",
            "4/4 [==============================] - 0s 67ms/step - loss: 0.0050 - val_loss: 0.1019\n",
            "Epoch 16/30\n",
            "4/4 [==============================] - 0s 66ms/step - loss: 0.0049 - val_loss: 0.1145\n",
            "Epoch 17/30\n",
            "4/4 [==============================] - 0s 65ms/step - loss: 0.0047 - val_loss: 0.1164\n",
            "Epoch 18/30\n",
            "4/4 [==============================] - 0s 63ms/step - loss: 0.0047 - val_loss: 0.1194\n",
            "Epoch 19/30\n",
            "4/4 [==============================] - 0s 62ms/step - loss: 0.0048 - val_loss: 0.1213\n",
            "Epoch 20/30\n",
            "4/4 [==============================] - 0s 59ms/step - loss: 0.0047 - val_loss: 0.1137\n",
            "Epoch 21/30\n",
            "4/4 [==============================] - 0s 64ms/step - loss: 0.0047 - val_loss: 0.1064\n",
            "Epoch 22/30\n",
            "4/4 [==============================] - 0s 64ms/step - loss: 0.0048 - val_loss: 0.1075\n",
            "Epoch 23/30\n",
            "4/4 [==============================] - 0s 64ms/step - loss: 0.0047 - val_loss: 0.1203\n",
            "Epoch 24/30\n",
            "4/4 [==============================] - 0s 62ms/step - loss: 0.0049 - val_loss: 0.1293\n",
            "Epoch 25/30\n",
            "4/4 [==============================] - 0s 63ms/step - loss: 0.0049 - val_loss: 0.1219\n",
            "Epoch 26/30\n",
            "4/4 [==============================] - 0s 64ms/step - loss: 0.0047 - val_loss: 0.1114\n",
            "Epoch 27/30\n",
            "4/4 [==============================] - 0s 59ms/step - loss: 0.0047 - val_loss: 0.1024\n",
            "Epoch 28/30\n",
            "4/4 [==============================] - 0s 61ms/step - loss: 0.0050 - val_loss: 0.0982\n",
            "Epoch 29/30\n",
            "4/4 [==============================] - 0s 65ms/step - loss: 0.0049 - val_loss: 0.1133\n",
            "Epoch 30/30\n",
            "4/4 [==============================] - 0s 63ms/step - loss: 0.0048 - val_loss: 0.1272\n"
          ],
          "name": "stdout"
        },
        {
          "output_type": "execute_result",
          "data": {
            "text/plain": [
              "<tensorflow.python.keras.callbacks.History at 0x7f2ac7b0e9d0>"
            ]
          },
          "metadata": {
            "tags": []
          },
          "execution_count": 66
        }
      ]
    },
    {
      "cell_type": "code",
      "metadata": {
        "id": "K9hsYzh3q9I5"
      },
      "source": [
        "train_pred=model.predict(X_train)\n",
        "test_pred=model.predict(X_test)"
      ],
      "execution_count": null,
      "outputs": []
    },
    {
      "cell_type": "code",
      "metadata": {
        "id": "g_Pax3L_rR_l"
      },
      "source": [
        "train_pred=scaler.inverse_transform(train_pred)\n",
        "test_pred=scaler.inverse_transform(test_pred)"
      ],
      "execution_count": null,
      "outputs": []
    },
    {
      "cell_type": "code",
      "metadata": {
        "id": "KGQ9NPyurgd3"
      },
      "source": [
        "import math\n",
        "from sklearn.metrics import mean_squared_error"
      ],
      "execution_count": null,
      "outputs": []
    },
    {
      "cell_type": "code",
      "metadata": {
        "colab": {
          "base_uri": "https://localhost:8080/"
        },
        "id": "_SeZjmFQrsh8",
        "outputId": "210fcf8b-84bd-4b27-e39c-1bddb52f182f"
      },
      "source": [
        "math.sqrt(mean_squared_error(y_train,train_pred))"
      ],
      "execution_count": null,
      "outputs": [
        {
          "output_type": "execute_result",
          "data": {
            "text/plain": [
              "268.9370049012484"
            ]
          },
          "metadata": {
            "tags": []
          },
          "execution_count": 70
        }
      ]
    },
    {
      "cell_type": "code",
      "metadata": {
        "colab": {
          "base_uri": "https://localhost:8080/"
        },
        "id": "B1vH4em5r5pW",
        "outputId": "663042b3-d414-456a-f84d-81596627930d"
      },
      "source": [
        "math.sqrt(mean_squared_error(y_test,test_pred))"
      ],
      "execution_count": null,
      "outputs": [
        {
          "output_type": "execute_result",
          "data": {
            "text/plain": [
              "286.00620225028723"
            ]
          },
          "metadata": {
            "tags": []
          },
          "execution_count": 71
        }
      ]
    },
    {
      "cell_type": "code",
      "metadata": {
        "colab": {
          "base_uri": "https://localhost:8080/",
          "height": 266
        },
        "id": "rLYFY0JfsFOm",
        "outputId": "8f285d37-4e13-4c88-babd-696f451653ea"
      },
      "source": [
        "\n",
        "### Plotting \n",
        "# shift train predictions for plotting\n",
        "look_back=50\n",
        "trainPredictPlot = np.empty_like(df_1)\n",
        "trainPredictPlot[:, :] = np.nan\n",
        "trainPredictPlot[look_back:len(train_pred)+look_back, :] = train_pred\n",
        "# shift test predictions for plotting\n",
        "testPredictPlot = np.empty_like(df_1)\n",
        "testPredictPlot[:, :] = np.nan\n",
        "testPredictPlot[len(train_pred)+(look_back*2)+1:len(df_1)-1, :] = test_pred\n",
        "# plot baseline and predictions\n",
        "plt.plot(scaler.inverse_transform(df_1))\n",
        "plt.plot(trainPredictPlot)\n",
        "plt.plot(testPredictPlot)\n",
        "plt.show()"
      ],
      "execution_count": null,
      "outputs": [
        {
          "output_type": "display_data",
          "data": {
            "image/png": "[encoded data removed]",
            "text/plain": [
              "<Figure size 432x288 with 1 Axes>"
            ]
          },
          "metadata": {
            "tags": [],
            "needs_background": "light"
          }
        }
      ]
    },
    {
      "cell_type": "code",
      "metadata": {
        "id": "1a2ZnQCqsQcJ"
      },
      "source": [
        ""
      ],
      "execution_count": null,
      "outputs": []
    }
  ]
}